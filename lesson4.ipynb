{
 "cells": [
  {
   "cell_type": "code",
   "execution_count": 1,
   "metadata": {},
   "outputs": [
    {
     "name": "stdout",
     "output_type": "stream",
     "text": [
      "Hello, stas\n",
      "End while\n"
     ]
    }
   ],
   "source": [
    "while True:\n",
    "    name = input('Your name?')\n",
    "    if name == 'stop': break\n",
    "    print(f'Hello, {name}')\n",
    "\n",
    "print('End while')"
   ]
  },
  {
   "cell_type": "code",
   "execution_count": 2,
   "metadata": {},
   "outputs": [
    {
     "name": "stdout",
     "output_type": "stream",
     "text": [
      "Iteration of 0\n",
      "number\n",
      "1\n",
      "Iteration of 1\n",
      "Iteration of 2\n",
      "number\n",
      "3\n",
      "Iteration of 3\n",
      "Iteration of 4\n",
      "number\n",
      "5\n",
      "Iteration of 5\n",
      "Iteration of 6\n",
      "number\n",
      "7\n",
      "Iteration of 7\n",
      "Iteration of 8\n",
      "number\n",
      "9\n",
      "Iteration of 9\n",
      "End\n"
     ]
    }
   ],
   "source": [
    "a = 0\n",
    "\n",
    "while a < 10:\n",
    "    print(f'Iteration of {a}')\n",
    "    a += 1\n",
    "    if not a % 2:\n",
    "        continue\n",
    "    print('number')\n",
    "    print(a)\n",
    "\n",
    "print('End')"
   ]
  },
  {
   "cell_type": "code",
   "execution_count": 4,
   "metadata": {},
   "outputs": [
    {
     "name": "stdout",
     "output_type": "stream",
     "text": [
      "22\n",
      "24\n",
      "End\n"
     ]
    }
   ],
   "source": [
    "while True:\n",
    "    i = int(input())\n",
    "\n",
    "    if i > 100:\n",
    "        break\n",
    "    if i < 20:\n",
    "        continue\n",
    "\n",
    "    print(i)\n",
    "print('End')"
   ]
  }
 ],
 "metadata": {
  "interpreter": {
   "hash": "e450050b432e843bda3c41bf3272c133bfc370a7003f3e377e27f87a49ce1127"
  },
  "kernelspec": {
   "display_name": "Python 3.10.4 64-bit",
   "language": "python",
   "name": "python3"
  },
  "language_info": {
   "codemirror_mode": {
    "name": "ipython",
    "version": 3
   },
   "file_extension": ".py",
   "mimetype": "text/x-python",
   "name": "python",
   "nbconvert_exporter": "python",
   "pygments_lexer": "ipython3",
   "version": "3.10.4"
  },
  "orig_nbformat": 4
 },
 "nbformat": 4,
 "nbformat_minor": 2
}
